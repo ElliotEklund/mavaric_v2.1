{
 "cells": [
  {
   "cell_type": "code",
   "execution_count": 1,
   "metadata": {},
   "outputs": [],
   "source": [
    "import numpy as np"
   ]
  },
  {
   "cell_type": "code",
   "execution_count": 74,
   "metadata": {},
   "outputs": [],
   "source": [
    "def sc(x,p,num_beads):\n",
    "    \n",
    "    x_sq = np.square(x)\n",
    "    p_sq = np.square(p)\n",
    "    \n",
    "    x_sq_p_sq_sum = np.sum(x_sq + p_sq,axis=0) - num_beads\n",
    "    return x_sq_p_sq_sum/(2.0*num_beads)"
   ]
  },
  {
   "cell_type": "code",
   "execution_count": 75,
   "metadata": {},
   "outputs": [],
   "source": [
    "def wig(x,p,num_beads,num_states):\n",
    "    \n",
    "    pre_f = pow(2.0,num_states + 1)\n",
    "  \n",
    "    x_sq = np.square(x)\n",
    "    p_sq = np.square(p)\n",
    "    \n",
    "    xx = np.sum(x_sq,axis=1)\n",
    "    pp = np.sum(p_sq,axis=1)\n",
    "    \n",
    "    exp_xx_pp = np.exp(-xx - pp)\n",
    "    v = np.zeros(num_states)\n",
    "\n",
    "    for bead in range(num_beads):\n",
    "        v += pre_f * exp_xx_pp[bead]*(x_sq[bead,:] + p_sq[bead,:] - 0.5)\n",
    "\n",
    "    return v/num_beads"
   ]
  },
  {
   "cell_type": "code",
   "execution_count": 76,
   "metadata": {},
   "outputs": [
    {
     "name": "stdout",
     "output_type": "stream",
     "text": [
      "[1.23077186 0.93352138]\n",
      "[0.07577591 0.06339288]\n"
     ]
    }
   ],
   "source": [
    "x = np.loadtxt(\"x\")\n",
    "p = np.loadtxt(\"p\")\n",
    "num_beads = 6\n",
    "num_states = 2\n",
    "\n",
    "x = x.reshape(num_beads,num_states)\n",
    "p = p.reshape(num_beads,num_states)\n",
    "\n",
    "sc_pops = sc(x,p,num_beads)\n",
    "wig_pops = wig(x,p,num_beads,num_states)\n",
    "\n",
    "print (sc_pops)\n",
    "print(wig_pops)"
   ]
  },
  {
   "cell_type": "code",
   "execution_count": null,
   "metadata": {},
   "outputs": [],
   "source": []
  }
 ],
 "metadata": {
  "kernelspec": {
   "display_name": "Python 3",
   "language": "python",
   "name": "python3"
  },
  "language_info": {
   "codemirror_mode": {
    "name": "ipython",
    "version": 3
   },
   "file_extension": ".py",
   "mimetype": "text/x-python",
   "name": "python",
   "nbconvert_exporter": "python",
   "pygments_lexer": "ipython3",
   "version": "3.7.0"
  }
 },
 "nbformat": 4,
 "nbformat_minor": 2
}
