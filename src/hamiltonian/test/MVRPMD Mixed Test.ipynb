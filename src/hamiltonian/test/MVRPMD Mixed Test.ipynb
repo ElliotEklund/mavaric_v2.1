{
 "cells": [
  {
   "cell_type": "code",
   "execution_count": 1,
   "metadata": {},
   "outputs": [],
   "source": [
    "import numpy as np"
   ]
  },
  {
   "cell_type": "code",
   "execution_count": 3,
   "metadata": {},
   "outputs": [],
   "source": [
    "nuc_beads = 1\n",
    "elec_beads = 1\n",
    "num_states = 2\n",
    "mass = 1.0\n",
    "beta = 1.0\n",
    "delta = 1.0;\n",
    "\n",
    "Q = np.zeros(nuc_beads)\n",
    "P = np.zeros(nuc_beads)\n",
    "x = np.zeros((elec_beads,num_states))\n",
    "p = np.zeros((elec_beads,num_states))"
   ]
  },
  {
   "cell_type": "code",
   "execution_count": 4,
   "metadata": {},
   "outputs": [],
   "source": [
    "for bead in range(nuc_beads):\n",
    "    Q[bead] = bead - 3.0\n",
    "    P[bead] = bead*2.78\n",
    "    \n",
    "for bead in range(elec_beads):\n",
    "    for state in range(num_states):\n",
    "        x[bead,state] = bead - 10*state\n",
    "        p[bead,state] = bead + state"
   ]
  },
  {
   "cell_type": "code",
   "execution_count": 5,
   "metadata": {},
   "outputs": [],
   "source": [
    "def Vmat(R):\n",
    "    \n",
    "    v = np.zeros((num_states,num_states))\n",
    "    v[0,0] = R\n",
    "    v[1,1] = -R\n",
    "    \n",
    "    v[0,1] = delta\n",
    "    v[1,0] = delta\n",
    "    \n",
    "    return v"
   ]
  },
  {
   "cell_type": "code",
   "execution_count": 6,
   "metadata": {},
   "outputs": [],
   "source": [
    "def Vmat_dQ(R):\n",
    "    \n",
    "    v = np.zeros((num_states,num_states))\n",
    "    v[0,0] = 1.0\n",
    "    v[1,1] = -1.0\n",
    "    \n",
    "    v[0,1] = 0.0\n",
    "    v[1,0] = 0.0\n",
    "    \n",
    "    return v"
   ]
  },
  {
   "cell_type": "code",
   "execution_count": 10,
   "metadata": {},
   "outputs": [],
   "source": [
    "def C_mat(x,p):\n",
    "    \n",
    "    x_p_p = x + 1j*p\n",
    "    x_m_p = x - 1j*p\n",
    "\n",
    "    return np.outer(x_p_p,x_m_p) - 0.5*np.identity(num_states)"
   ]
  },
  {
   "cell_type": "code",
   "execution_count": 16,
   "metadata": {},
   "outputs": [],
   "source": [
    "def M_mat(Q):\n",
    "    \n",
    "    M = np.zeros((num_states,num_states))\n",
    "    V = Vmat(Q)\n",
    "    \n",
    "    M[0,0] = np.exp(- beta * V[0,0] / elec_beads)\n",
    "    M[1,1] = np.exp(- beta * V[1,1] / elec_beads)\n",
    "    \n",
    "    M[0,1] = - beta * V[0,1] * M[0,0] / elec_beads\n",
    "    M[1,0] = - beta * V[1,0] * M[1,1] / elec_beads\n",
    "    \n",
    "    return M"
   ]
  },
  {
   "cell_type": "code",
   "execution_count": 21,
   "metadata": {},
   "outputs": [],
   "source": [
    "def Gamma(Q,x,p):\n",
    "    \n",
    "    gamma = np.identity(num_states)\n",
    "    ratio = int(nuc_beads/elec_beads)\n",
    "    \n",
    "    for bead in range(elec_beads):\n",
    "        \n",
    "        C = C_mat(x[bead,:],p[bead,:])\n",
    "        M = M_mat(Q[bead*ratio])\n",
    "        gamma = np.matmul(gamma,C)\n",
    "        gamma = np.matmul(gamma,M)\n",
    "\n",
    "    return gamma"
   ]
  },
  {
   "cell_type": "code",
   "execution_count": 33,
   "metadata": {},
   "outputs": [],
   "source": [
    "def Theta(Q,x,p):\n",
    "    \n",
    "    gamma_tr = np.trace(Gamma(Q,x,p))\n",
    "    return np.real(gamma_tr)\n",
    "    "
   ]
  },
  {
   "cell_type": "code",
   "execution_count": 32,
   "metadata": {},
   "outputs": [
    {
     "data": {
      "text/plain": [
       "-5.039168090623508"
      ]
     },
     "execution_count": 32,
     "metadata": {},
     "output_type": "execute_result"
    }
   ],
   "source": [
    "Theta(Q,x,p)"
   ]
  },
  {
   "cell_type": "code",
   "execution_count": null,
   "metadata": {},
   "outputs": [],
   "source": []
  }
 ],
 "metadata": {
  "kernelspec": {
   "display_name": "Python 3",
   "language": "python",
   "name": "python3"
  },
  "language_info": {
   "codemirror_mode": {
    "name": "ipython",
    "version": 3
   },
   "file_extension": ".py",
   "mimetype": "text/x-python",
   "name": "python",
   "nbconvert_exporter": "python",
   "pygments_lexer": "ipython3",
   "version": "3.7.0"
  }
 },
 "nbformat": 4,
 "nbformat_minor": 2
}
