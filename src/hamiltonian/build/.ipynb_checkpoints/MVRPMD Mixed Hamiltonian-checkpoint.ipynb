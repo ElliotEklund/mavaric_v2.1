{
 "cells": [
  {
   "cell_type": "code",
   "execution_count": 160,
   "metadata": {},
   "outputs": [],
   "source": [
    "import numpy as np"
   ]
  },
  {
   "cell_type": "code",
   "execution_count": 161,
   "metadata": {},
   "outputs": [],
   "source": [
    "nuc_beads = 1\n",
    "elec_beads = 1\n",
    "num_states = 2\n",
    "mass = 1.0\n",
    "beta = 1.0\n",
    "delta = 1.0;\n",
    "\n",
    "Q = np.zeros(nuc_beads)\n",
    "P = np.zeros(nuc_beads)\n",
    "x = np.zeros((elec_beads,num_states))\n",
    "p = np.zeros((elec_beads,num_states))"
   ]
  },
  {
   "cell_type": "code",
   "execution_count": 162,
   "metadata": {},
   "outputs": [],
   "source": [
    "for bead in range(nuc_beads):\n",
    "    Q[bead] = bead - 3.0\n",
    "    P[bead] = bead*2.78\n",
    "    \n",
    "for bead in range(elec_beads):\n",
    "    for state in range(num_states):\n",
    "        x[bead,state] = 0.1*bead - 0.2*state\n",
    "        p[bead,state] = 0.1*bead + 0.3*state"
   ]
  },
  {
   "cell_type": "code",
   "execution_count": 163,
   "metadata": {},
   "outputs": [],
   "source": [
    "def k_delta(n,m):\n",
    "    if n == m:\n",
    "        return 1.0\n",
    "    else :\n",
    "        return 0.0"
   ]
  },
  {
   "cell_type": "code",
   "execution_count": 164,
   "metadata": {},
   "outputs": [],
   "source": [
    "def Vmat(R):\n",
    "    \n",
    "    v = np.zeros((num_states,num_states))\n",
    "    v[0,0] = R\n",
    "    v[1,1] = -R\n",
    "    \n",
    "    v[0,1] = delta\n",
    "    v[1,0] = delta\n",
    "    \n",
    "    return v"
   ]
  },
  {
   "cell_type": "code",
   "execution_count": 165,
   "metadata": {},
   "outputs": [],
   "source": [
    "def Vmat_dQ(R):\n",
    "    \n",
    "    v = np.zeros((num_states,num_states))\n",
    "    v[0,0] = 1.0\n",
    "    v[1,1] = -1.0\n",
    "    \n",
    "    v[0,1] = 0.0\n",
    "    v[1,0] = 0.0\n",
    "    \n",
    "    return v"
   ]
  },
  {
   "cell_type": "code",
   "execution_count": 166,
   "metadata": {},
   "outputs": [],
   "source": [
    "def C_mat(x,p):\n",
    "    \"\"\" \n",
    "    Return C Matrix given x and p\n",
    "    x,p: mapping variable vectors of a given bead; both are length num_states\n",
    "    \"\"\"\n",
    "    \n",
    "    x_p_p = x + 1j*p\n",
    "    x_m_p = x - 1j*p\n",
    "    \n",
    "    return np.outer(x_p_p,x_m_p) - 0.5*np.identity(num_states)"
   ]
  },
  {
   "cell_type": "code",
   "execution_count": 167,
   "metadata": {},
   "outputs": [],
   "source": [
    "def C_mat_dx(x,p,alpha):\n",
    "    \n",
    "    C_dx = np.zeros((num_states,num_states),dtype='complex')\n",
    "    \n",
    "    for i in range(num_states):\n",
    "        for j in range(num_states):\n",
    "            C_dx[i,j] = k_delta(i,alpha)*x[j] + k_delta(j,alpha)*x[i] + \\\n",
    "                        1j*(p[i]*k_delta(j,alpha) - k_delta(i,alpha)*p[j])\n",
    "    \n",
    "    return C_dx"
   ]
  },
  {
   "cell_type": "code",
   "execution_count": 168,
   "metadata": {},
   "outputs": [],
   "source": [
    "def C_mat_dp(x,p,alpha):\n",
    "    \n",
    "    C_dp = np.zeros((num_states,num_states),dtype='complex')\n",
    "    \n",
    "    for n in range(num_states):\n",
    "        for m in range(num_states):\n",
    "            C_dp[n,m] = k_delta(n,alpha)*p[m] + k_delta(m,alpha)*p[n] + \\\n",
    "                        1j*(x[m]*k_delta(n,alpha) - x[n]*k_delta(m,alpha))\n",
    "\n",
    "    return C_dp"
   ]
  },
  {
   "cell_type": "code",
   "execution_count": 169,
   "metadata": {},
   "outputs": [],
   "source": [
    "def M_mat(Q):\n",
    "    \n",
    "    M = np.zeros((num_states,num_states))\n",
    "    V = Vmat(Q)\n",
    "    \n",
    "    M[0,0] = np.exp(-beta * V[0,0] /elec_beads)\n",
    "    M[1,1] = np.exp(-beta * V[1,1] /elec_beads)\n",
    "    M[0,1] = -beta * V[0,1] * M[0,0] / elec_beads\n",
    "    M[1,0] = -beta * V[1,0] * M[1,1] / elec_beads\n",
    "\n",
    "    return M"
   ]
  },
  {
   "cell_type": "code",
   "execution_count": 170,
   "metadata": {},
   "outputs": [],
   "source": [
    "def M_mat_dQ(Q):\n",
    "    \n",
    "    M_dQ = np.zeros((num_states,num_states))\n",
    "    V = Vmat(Q)\n",
    "    V_dQ = Vmat_dQ(Q)\n",
    "    \n",
    "    M_dQ[0,0] = - beta * V_dQ[0,0] * np.exp(-beta * V[0,0]/elec_beads) / elec_beads\n",
    "    M_dQ[1,1] = - beta * V_dQ[1,1] * np.exp(-beta * V[1,1]/elec_beads) / elec_beads\n",
    "    \n",
    "    M_dQ[0,1] = - beta * V_dQ[0,1] * np.exp(-beta * V[0,0]/elec_beads) / elec_beads -\\\n",
    "                 (beta * V[0,1] / elec_beads) * M_dQ[0,0]\n",
    "    \n",
    "    M_dQ[1,0] = - beta * V_dQ[1,0] * np.exp(-beta * V[1,1]/elec_beads) / elec_beads -\\\n",
    "                 (beta * V[1,0] / elec_beads) * M_dQ[1,1]\n",
    "\n",
    "    return M_dQ"
   ]
  },
  {
   "cell_type": "code",
   "execution_count": 171,
   "metadata": {},
   "outputs": [],
   "source": [
    "def Gamma(Q,x,p):\n",
    "    \n",
    "    gamma = np.identity(num_states)\n",
    "    ratio = int(nuc_beads/elec_beads)\n",
    "    \n",
    "    for bead in range(elec_beads):\n",
    "        M = M_mat(Q[bead*ratio])\n",
    "        C = C_mat(x[bead,:],p[bead,:])\n",
    "        \n",
    "        gamma = np.matmul(gamma,C)\n",
    "        gamma = np.matmul(gamma,M)\n",
    "\n",
    "    return gamma"
   ]
  },
  {
   "cell_type": "code",
   "execution_count": 172,
   "metadata": {},
   "outputs": [],
   "source": [
    "def Gamma_dQ(Q,x,p,alpha):\n",
    "    \n",
    "    ratio = int(nuc_beads/elec_beads)\n",
    "\n",
    "    W = np.zeros((elec_beads,nuc_beads))\n",
    "    gamma_dQ = np.identity(num_states)\n",
    "    \n",
    "    for i in range (elec_beads):\n",
    "        W[i,i*ratio] = 1.0\n",
    "    \n",
    "    Q_trans = np.matmul(W,Q)\n",
    "\n",
    "    for bead in range(elec_beads):\n",
    "        C = C_mat(x[bead,:],p[bead,:])\n",
    "        gamma_dQ = np.matmul(gamma_dQ,C)\n",
    "        \n",
    "        if alpha == bead:\n",
    "            M_dQ = M_mat_dQ(Q_trans[bead])\n",
    "            gamma_dQ = np.matmul(gamma_dQ,M_dQ)\n",
    "\n",
    "        else:\n",
    "            M = M_mat(Q_trans[bead])\n",
    "            gamma_dQ = np.matmul(gamma_dQ,M)\n",
    "\n",
    "    return gamma_dQ"
   ]
  },
  {
   "cell_type": "code",
   "execution_count": 173,
   "metadata": {},
   "outputs": [],
   "source": [
    "def Gamma_dx(Q,x,p,alpha,state):\n",
    "    \"\"\"Derivative wrt bead alpha and state\"\"\"\n",
    "  \n",
    "    gamma_dx = np.identity(num_states)\n",
    "    ratio = int(nuc_beads/elec_beads)\n",
    "    \n",
    "    for bead in range(elec_beads):\n",
    "   \n",
    "        if alpha == bead:\n",
    "            C_dx = C_mat_dx(x[bead,:],p[bead,:],state)\n",
    "            gamma_dx = np.matmul(gamma_dx,C_dx)\n",
    "\n",
    "        else:\n",
    "            C = C_mat(x[bead,:],p[bead,:])\n",
    "            gamma_dx = np.matmul(gamma_dx,C)\n",
    "            \n",
    "        M = M_mat(Q[ratio*bead])\n",
    "        gamma_dx = np.matmul(gamma_dx,M)\n",
    "\n",
    "    return gamma_dx\n",
    "    "
   ]
  },
  {
   "cell_type": "code",
   "execution_count": 174,
   "metadata": {},
   "outputs": [],
   "source": [
    "def Gamma_dp(Q,x,p,alpha,state):\n",
    "    \"\"\"Derivative wrt bead alpha and state\"\"\"\n",
    "  \n",
    "    gamma_dp = np.identity(num_states)\n",
    "    ratio = int(nuc_beads/elec_beads)\n",
    "    \n",
    "    for bead in range(elec_beads):\n",
    "   \n",
    "        if alpha == bead:\n",
    "            C_dp = C_mat_dp(x[bead,:],p[bead,:],state)\n",
    "            gamma_dp = np.matmul(gamma_dp,C_dp)\n",
    "\n",
    "        else:\n",
    "            C = C_mat(x[bead,:],p[bead,:])\n",
    "            gamma_dp = np.matmul(gamma_dp,C)\n",
    "            \n",
    "        M = M_mat(Q[ratio*bead])\n",
    "        gamma_dp = np.matmul(gamma_dp,M)\n",
    "\n",
    "    return gamma_dp"
   ]
  },
  {
   "cell_type": "code",
   "execution_count": 175,
   "metadata": {},
   "outputs": [],
   "source": [
    "def Theta(Q,x,p):\n",
    "    \n",
    "    gamma = Gamma(Q,x,p)\n",
    "    theta = np.trace(gamma)\n",
    "    \n",
    "    return np.real(theta)"
   ]
  },
  {
   "cell_type": "code",
   "execution_count": 176,
   "metadata": {},
   "outputs": [],
   "source": [
    "def grad_theta_dQ(Q,x,p):\n",
    "    \n",
    "    ratio = int(nuc_beads/elec_beads)\n",
    "    V = np.zeros((nuc_beads,elec_beads))\n",
    "    grad = np.zeros(elec_beads)\n",
    "    \n",
    "    for i in range (elec_beads):\n",
    "        V[i*ratio,i] = 1.0\n",
    "    \n",
    "    for bead in range(elec_beads):\n",
    "        grad[bead] = np.real(np.trace(Gamma_dQ(Q,x,p,bead)))\n",
    "        \n",
    "    return np.matmul(V,grad)"
   ]
  },
  {
   "cell_type": "code",
   "execution_count": 177,
   "metadata": {},
   "outputs": [],
   "source": [
    "def grad_theta_dx(Q,x,p):\n",
    "    \n",
    "    grad = np.zeros((elec_beads,num_states))\n",
    "    \n",
    "    for bead in range(elec_beads):\n",
    "        for state in range (num_states):\n",
    "            grad[bead,state] = np.real(np.trace(Gamma_dx(Q,x,p,bead,state)))\n",
    "    return grad"
   ]
  },
  {
   "cell_type": "code",
   "execution_count": 178,
   "metadata": {},
   "outputs": [],
   "source": [
    "def grad_theta_dp(Q,x,p):\n",
    "    \n",
    "    grad = np.zeros((elec_beads,num_states))\n",
    "    \n",
    "    for bead in range(elec_beads):\n",
    "        for state in range (num_states):\n",
    "            grad[bead,state] = np.real(np.trace(Gamma_dp(Q,x,p,bead,state)))\n",
    "    return grad"
   ]
  },
  {
   "cell_type": "code",
   "execution_count": 179,
   "metadata": {},
   "outputs": [
    {
     "name": "stdout",
     "output_type": "stream",
     "text": [
      "[10.02434725]\n"
     ]
    }
   ],
   "source": [
    "print (grad_theta_dQ(Q,x,p))"
   ]
  },
  {
   "cell_type": "code",
   "execution_count": 180,
   "metadata": {},
   "outputs": [
    {
     "name": "stdout",
     "output_type": "stream",
     "text": [
      "[[ 4.0270648  -0.01991483]]\n"
     ]
    }
   ],
   "source": [
    "print (grad_theta_dx(Q,x,p))"
   ]
  },
  {
   "cell_type": "code",
   "execution_count": 181,
   "metadata": {},
   "outputs": [
    {
     "name": "stdout",
     "output_type": "stream",
     "text": [
      "[[-6.0405972   0.02987224]]\n"
     ]
    }
   ],
   "source": [
    "print (grad_theta_dp(Q,x,p))"
   ]
  }
 ],
 "metadata": {
  "kernelspec": {
   "display_name": "Python 3",
   "language": "python",
   "name": "python3"
  },
  "language_info": {
   "codemirror_mode": {
    "name": "ipython",
    "version": 3
   },
   "file_extension": ".py",
   "mimetype": "text/x-python",
   "name": "python",
   "nbconvert_exporter": "python",
   "pygments_lexer": "ipython3",
   "version": "3.7.0"
  }
 },
 "nbformat": 4,
 "nbformat_minor": 2
}
