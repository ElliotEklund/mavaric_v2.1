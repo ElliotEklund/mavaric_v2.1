{
 "cells": [
  {
   "cell_type": "code",
   "execution_count": 66,
   "metadata": {},
   "outputs": [],
   "source": [
    "import numpy as np"
   ]
  },
  {
   "cell_type": "code",
   "execution_count": 104,
   "metadata": {},
   "outputs": [],
   "source": [
    "nuc_beads = 1\n",
    "elec_beads = 1\n",
    "num_states = 2\n",
    "mass = 1.0\n",
    "beta = 1.0\n",
    "delta = 1.0;\n",
    "\n",
    "Q = np.zeros(nuc_beads)\n",
    "P = np.zeros(nuc_beads)\n",
    "x = np.zeros((elec_beads,num_states))\n",
    "p = np.zeros((elec_beads,num_states))"
   ]
  },
  {
   "cell_type": "code",
   "execution_count": 105,
   "metadata": {},
   "outputs": [],
   "source": [
    "for bead in range(nuc_beads):\n",
    "    Q[bead] = bead - 3.0\n",
    "    P[bead] = bead*2.78\n",
    "    \n",
    "for bead in range(elec_beads):\n",
    "    for state in range(num_states):\n",
    "        x[bead,state] = bead - 10*state\n",
    "        p[bead,state] = bead + state"
   ]
  },
  {
   "cell_type": "code",
   "execution_count": 106,
   "metadata": {},
   "outputs": [],
   "source": [
    "def Vmat(R):\n",
    "    \n",
    "    v = np.zeros((num_states,num_states))\n",
    "    v[0,0] = R\n",
    "    v[1,1] = -R\n",
    "    \n",
    "    v[0,1] = delta\n",
    "    v[1,0] = delta\n",
    "    \n",
    "    return v"
   ]
  },
  {
   "cell_type": "code",
   "execution_count": 107,
   "metadata": {},
   "outputs": [],
   "source": [
    "def Vmat_dQ(R):\n",
    "    \n",
    "    v = np.zeros((num_states,num_states))\n",
    "    v[0,0] = 1.0\n",
    "    v[1,1] = -1.0\n",
    "    \n",
    "    v[0,1] = 0.0\n",
    "    v[1,0] = 0.0\n",
    "    \n",
    "    return v"
   ]
  },
  {
   "cell_type": "code",
   "execution_count": 108,
   "metadata": {},
   "outputs": [],
   "source": [
    "def Vsc(Q,x,p):\n",
    "    \n",
    "    ratio = int(nuc_beads/elec_beads)\n",
    "    sum = 0.0\n",
    "    for bead in range(elec_beads):\n",
    "        \n",
    "        V = Vmat(Q[bead*ratio])\n",
    "        xtemp = np.matmul(V,x[bead,:])\n",
    "        ptemp = np.matmul(V,p[bead,:])\n",
    "        \n",
    "        sum += 0.5*(np.matmul(x[bead,:],xtemp) + np.matmul(p[bead,:],ptemp))\n",
    "        sum -= np.trace(V)\n",
    "\n",
    "    return sum"
   ]
  },
  {
   "cell_type": "code",
   "execution_count": 109,
   "metadata": {},
   "outputs": [],
   "source": [
    "def Vsc_dx(Q,x):\n",
    "    \n",
    "    Vsc_dx_vec = np.zeros((elec_beads,num_states))\n",
    "    \n",
    "    ratio = int(nuc_beads/elec_beads)\n",
    "    for bead in range(elec_beads):    \n",
    "        V = Vmat(Q[bead*ratio])\n",
    "        Vsc_dx_vec[bead,:]  = np.matmul(V,x[bead,:])        \n",
    "    return Vsc_dx_vec"
   ]
  },
  {
   "cell_type": "code",
   "execution_count": 110,
   "metadata": {},
   "outputs": [],
   "source": [
    "def Vsc_dp(Q,p):\n",
    "    \n",
    "    Vsc_dp_vec = np.zeros((elec_beads,num_states))\n",
    "    \n",
    "    ratio = int(nuc_beads/elec_beads)\n",
    "    for bead in range(elec_beads):    \n",
    "        V = Vmat(Q[bead*ratio])\n",
    "        Vsc_dp_vec[bead,:]  = np.matmul(V,p[bead,:])        \n",
    "    return Vsc_dp_vec"
   ]
  },
  {
   "cell_type": "code",
   "execution_count": 111,
   "metadata": {},
   "outputs": [],
   "source": [
    "def Vsc_dQ(Q,x,p):\n",
    "    \n",
    "    Vsc_dQ_vec = np.zeros(nuc_beads)\n",
    "    sum = 0.0\n",
    "    ratio = int(nuc_beads/elec_beads)\n",
    "    \n",
    "    for bead in range(elec_beads):    \n",
    "        V_dQ = Vmat_dQ(Q[bead*ratio])\n",
    "        xtemp = np.matmul(V_dQ,x[bead,:])\n",
    "        ptemp = np.matmul(V_dQ,p[bead,:])\n",
    "        \n",
    "        Vsc_dQ_vec[bead*ratio] = 0.5*(np.matmul(x[bead,:],xtemp) + np.matmul(p[bead,:],ptemp))\n",
    "        Vsc_dQ_vec[bead*ratio] -= np.trace(V_dQ)\n",
    "    \n",
    "    return Vsc_dQ_vec"
   ]
  },
  {
   "cell_type": "code",
   "execution_count": 112,
   "metadata": {},
   "outputs": [
    {
     "name": "stdout",
     "output_type": "stream",
     "text": [
      "[-50.5]\n",
      "[[-10. -30.]]\n",
      "[[1. 3.]]\n"
     ]
    }
   ],
   "source": [
    "print (Vsc_dQ(Q,x,p))\n",
    "print (Vsc_dx(Q,x))\n",
    "print (Vsc_dp(Q,p))"
   ]
  },
  {
   "cell_type": "code",
   "execution_count": null,
   "metadata": {},
   "outputs": [],
   "source": []
  },
  {
   "cell_type": "code",
   "execution_count": null,
   "metadata": {},
   "outputs": [],
   "source": []
  }
 ],
 "metadata": {
  "kernelspec": {
   "display_name": "Python 3",
   "language": "python",
   "name": "python3"
  },
  "language_info": {
   "codemirror_mode": {
    "name": "ipython",
    "version": 3
   },
   "file_extension": ".py",
   "mimetype": "text/x-python",
   "name": "python",
   "nbconvert_exporter": "python",
   "pygments_lexer": "ipython3",
   "version": "3.7.0"
  }
 },
 "nbformat": 4,
 "nbformat_minor": 2
}
