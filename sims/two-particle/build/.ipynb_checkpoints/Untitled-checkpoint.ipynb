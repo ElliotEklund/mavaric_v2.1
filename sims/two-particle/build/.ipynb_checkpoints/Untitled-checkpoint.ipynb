{
 "cells": [
  {
   "cell_type": "code",
   "execution_count": 1,
   "metadata": {},
   "outputs": [],
   "source": [
    "import numpy as np"
   ]
  },
  {
   "cell_type": "code",
   "execution_count": 9,
   "metadata": {},
   "outputs": [],
   "source": [
    "num_states = 2\n",
    "num_beads = 6\n",
    "\n",
    "x = np.zeros([num_beads,num_states])\n",
    "p = np.zeros([num_beads,num_states])\n",
    "\n",
    "for i in range(num_states):\n",
    "    for j in range(num_beads):\n",
    "        \n",
    "        x[j][i] = i + j\n",
    "        p[j][i] = 5 + i + j"
   ]
  },
  {
   "cell_type": "code",
   "execution_count": 36,
   "metadata": {},
   "outputs": [],
   "source": [
    "#Check SC Populations\n",
    "x_sq = np.square(x) - 0.5;\n",
    "p_sq = np.square(p) - 0.5;\n",
    "\n",
    "x_sum_bead = np.sum(x_sq,axis=0)\n",
    "p_sum_bead = np.sum(p_sq,axis=0)\n",
    "\n",
    "\n",
    "sc_pops = (x_sum_bead + p_sum_bead)/(2.0*num_beads)"
   ]
  },
  {
   "cell_type": "code",
   "execution_count": 37,
   "metadata": {},
   "outputs": [
    {
     "name": "stdout",
     "output_type": "stream",
     "text": [
      "[33.66666667 44.66666667]\n"
     ]
    }
   ],
   "source": [
    "print(sc_pops)"
   ]
  },
  {
   "cell_type": "code",
   "execution_count": 69,
   "metadata": {},
   "outputs": [],
   "source": [
    "#Check Wigner Populations\n",
    "x_sq = np.square(x);\n",
    "p_sq = np.square(p);\n",
    "\n",
    "x_sum_state = np.sum(x_sq,axis=1)\n",
    "p_sum_state = np.sum(p_sq,axis=1)\n",
    "\n",
    "exp_v = np.exp(-(x_sum_state + p_sum_state))\n",
    "exp_v = exp_v.reshape(num_beads,1)\n",
    "xp_sum = x_sq + p_sq - 0.5\n",
    "coef = np.power(2,num_states+1)/num_beads\n",
    "\n",
    "wig_pops = coef*np.sum(exp_v * xp_sum,axis=0)"
   ]
  }
 ],
 "metadata": {
  "kernelspec": {
   "display_name": "Python 3",
   "language": "python",
   "name": "python3"
  },
  "language_info": {
   "codemirror_mode": {
    "name": "ipython",
    "version": 3
   },
   "file_extension": ".py",
   "mimetype": "text/x-python",
   "name": "python",
   "nbconvert_exporter": "python",
   "pygments_lexer": "ipython3",
   "version": "3.7.0"
  }
 },
 "nbformat": 4,
 "nbformat_minor": 2
}
