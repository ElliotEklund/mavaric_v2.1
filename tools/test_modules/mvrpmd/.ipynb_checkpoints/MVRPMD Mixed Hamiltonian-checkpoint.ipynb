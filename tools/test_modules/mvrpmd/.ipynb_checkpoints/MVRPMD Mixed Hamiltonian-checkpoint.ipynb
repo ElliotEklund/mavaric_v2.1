{
 "cells": [
  {
   "cell_type": "code",
   "execution_count": 30,
   "metadata": {},
   "outputs": [],
   "source": [
    "import numpy as np"
   ]
  },
  {
   "cell_type": "code",
   "execution_count": 122,
   "metadata": {},
   "outputs": [],
   "source": [
    "nuc_beads = 1\n",
    "elec_beads = 4\n",
    "num_states = 2\n",
    "mass = 1.0\n",
    "beta = 1.0\n",
    "delta = 0.01;\n",
    "\n",
    "Q = np.zeros(nuc_beads)\n",
    "P = np.zeros(nuc_beads)\n",
    "x = np.zeros((elec_beads,num_states))\n",
    "p = np.zeros((elec_beads,num_states))"
   ]
  },
  {
   "cell_type": "code",
   "execution_count": 123,
   "metadata": {},
   "outputs": [],
   "source": [
    "#Fill phase space variables with values\n",
    "for bead in range(nuc_beads):\n",
    "    Q[bead] = bead - 3.0\n",
    "    P[bead] = bead*2.78\n",
    "    \n",
    "for bead in range(elec_beads):\n",
    "    for state in range(num_states):\n",
    "        x[bead,state] = 0.1*bead - 0.2*state\n",
    "        p[bead,state] = 0.1*bead + 0.3*state"
   ]
  },
  {
   "cell_type": "code",
   "execution_count": 124,
   "metadata": {},
   "outputs": [],
   "source": [
    "def k_delta(n,m):\n",
    "    \"\"\"Standard Kronecker delta function\n",
    "        n,m: both integers\"\"\"\n",
    "    if n == m:\n",
    "        return 1.0\n",
    "    else :\n",
    "        return 0.0"
   ]
  },
  {
   "cell_type": "code",
   "execution_count": 125,
   "metadata": {},
   "outputs": [],
   "source": [
    "def kinetic(P):\n",
    "    \n",
    "    \"\"\"Kinetic Energy of the System\n",
    "       P: nuclear momentum vector\"\"\"\n",
    "    \n",
    "    return np.inner(P,P)/(2.0*mass)"
   ]
  },
  {
   "cell_type": "markdown",
   "metadata": {},
   "source": [
    "Potential Energy Surfaces"
   ]
  },
  {
   "cell_type": "code",
   "execution_count": 126,
   "metadata": {},
   "outputs": [],
   "source": [
    "def V0(Q):\n",
    "    \n",
    "    \"\"\"State Independent Potential\n",
    "       Q: nuclear position vector\"\"\"\n",
    "    \n",
    "    v = 0\n",
    "    \n",
    "    for bead in range(nuc_beads):\n",
    "        v += 0.5*Q[bead]*Q[bead]\n",
    "    \n",
    "    return v"
   ]
  },
  {
   "cell_type": "code",
   "execution_count": 127,
   "metadata": {},
   "outputs": [],
   "source": [
    "def dV0_dQ(Q):\n",
    "    \n",
    "    return Q"
   ]
  },
  {
   "cell_type": "code",
   "execution_count": 128,
   "metadata": {},
   "outputs": [],
   "source": [
    "def Vmat(Q):\n",
    "    \n",
    "    \"\"\"Diabatic potential matrix for a 2 state system with \n",
    "       constant off-diagonal coupling.\n",
    "       Q: nuclear position\"\"\"\n",
    "    \n",
    "    \n",
    "    v = np.zeros((num_states,num_states))\n",
    "    v[0,0] = Q\n",
    "    v[1,1] = -Q\n",
    "    \n",
    "    v[0,1] = delta\n",
    "    v[1,0] = delta\n",
    "    \n",
    "    return v"
   ]
  },
  {
   "cell_type": "code",
   "execution_count": 129,
   "metadata": {},
   "outputs": [],
   "source": [
    "def Vmat_dQ(Q):\n",
    "    \n",
    "    \"\"\"Derivative of Diabatic potential matrix w.r.t Q for a 2 state \n",
    "       system with constant off-diagonal coupling.\n",
    "       Q: nuclear position\"\"\"\n",
    "    \n",
    "    v = np.zeros((num_states,num_states))\n",
    "    v[0,0] = 1.0\n",
    "    v[1,1] = -1.0\n",
    "    \n",
    "    v[0,1] = 0.0\n",
    "    v[1,0] = 0.0\n",
    "    \n",
    "    return v"
   ]
  },
  {
   "cell_type": "markdown",
   "metadata": {},
   "source": [
    "C Matrix and derivatives"
   ]
  },
  {
   "cell_type": "code",
   "execution_count": 130,
   "metadata": {},
   "outputs": [],
   "source": [
    "def C_mat(x,p):\n",
    "    \"\"\"C Matrix from MV-RPMD formulation.\n",
    "       x,p: mapping variable vectors of a given bead; both are length num_states \"\"\"\n",
    "    \n",
    "    x_p_p = x + 1j*p #x plus i p\n",
    "    x_m_p = x - 1j*p #x minus i p\n",
    "    \n",
    "    return np.outer(x_p_p,x_m_p) - 0.5*np.identity(num_states)"
   ]
  },
  {
   "cell_type": "code",
   "execution_count": 131,
   "metadata": {},
   "outputs": [],
   "source": [
    "def C_mat_dx(x,p,alpha):\n",
    "\n",
    "    \"\"\"Derivative of C Matrix w.r.t x of a particular bead and state\n",
    "        x,p: mapping variables vectors of a given bead: both are length num_states\n",
    "        alpha: the state of x we are taking the derivative w.r.t \"\"\"\n",
    "    \n",
    "    C_dx = np.zeros((num_states,num_states),dtype='complex')\n",
    "    \n",
    "    for i in range(num_states):\n",
    "        for j in range(num_states):\n",
    "            C_dx[i,j] = k_delta(i,alpha)*x[j] + k_delta(j,alpha)*x[i] + \\\n",
    "                        1j*(p[i]*k_delta(j,alpha) - k_delta(i,alpha)*p[j])\n",
    "    \n",
    "    return C_dx"
   ]
  },
  {
   "cell_type": "code",
   "execution_count": 132,
   "metadata": {},
   "outputs": [],
   "source": [
    "def C_mat_dp(x,p,alpha):\n",
    "    \n",
    "    \"\"\"Derivative of C Matrix w.r.t p of a particular bead and state\n",
    "        x,p: mapping variables vectors of a given bead: both are length num_states\n",
    "        alpha: the state of p we are taking the derivative w.r.t \"\"\"\n",
    "    \n",
    "    C_dp = np.zeros((num_states,num_states),dtype='complex')\n",
    "    \n",
    "    for n in range(num_states):\n",
    "        for m in range(num_states):\n",
    "            C_dp[n,m] = k_delta(n,alpha)*p[m] + k_delta(m,alpha)*p[n] + \\\n",
    "                        1j*(x[m]*k_delta(n,alpha) - x[n]*k_delta(m,alpha))\n",
    "\n",
    "    return C_dp"
   ]
  },
  {
   "cell_type": "markdown",
   "metadata": {},
   "source": [
    "M Matrix and derivatives"
   ]
  },
  {
   "cell_type": "code",
   "execution_count": 133,
   "metadata": {},
   "outputs": [],
   "source": [
    "def M_mat(Q):\n",
    "    \n",
    "    \"\"\"M Matrix from MV-RPMD formulation.\n",
    "       Q: nuclear position\"\"\"\n",
    "    \n",
    "    M = np.zeros((num_states,num_states))\n",
    "    V = Vmat(Q)\n",
    "    beta_n = beta/elec_beads\n",
    "    \n",
    "    M[0,0] = np.exp(- beta_n * V[0,0])\n",
    "    M[1,1] = np.exp(- beta_n * V[1,1])\n",
    "    M[0,1] = -beta_n * V[0,1] * np.exp(-beta_n * V[0,0])\n",
    "    M[1,0] = -beta_n * V[1,0] * np.exp(-beta_n * V[1,1])\n",
    "\n",
    "    return M"
   ]
  },
  {
   "cell_type": "code",
   "execution_count": 134,
   "metadata": {},
   "outputs": [],
   "source": [
    "def M_mat_dQ(Q):\n",
    "    \n",
    "    \"\"\"Derivative of M Matrix w.r.t Q.\n",
    "       Q: nuclear position\"\"\"\n",
    "    \n",
    "    M_dQ = np.zeros((num_states,num_states))\n",
    "    V = Vmat(Q)\n",
    "    V_dQ = Vmat_dQ(Q)\n",
    "    beta_n = beta/elec_beads\n",
    "\n",
    "    M_dQ[0,0] = - beta_n * V_dQ[0,0] * np.exp(-beta_n * V[0,0])\n",
    "    M_dQ[1,1] = - beta_n * V_dQ[1,1] * np.exp(-beta_n * V[1,1])\n",
    "    \n",
    "    M_dQ[0,1] = - beta_n * V_dQ[0,1] * np.exp(-beta_n * V[0,0]) -\\\n",
    "                 (beta_n * V[0,1] ) * M_dQ[0,0]\n",
    "    \n",
    "    M_dQ[1,0] = - beta_n * V_dQ[1,0] * np.exp(-beta_n * V[1,1])  -\\\n",
    "                 (beta_n * V[1,0] ) * M_dQ[1,1]\n",
    "\n",
    "    return M_dQ"
   ]
  },
  {
   "cell_type": "code",
   "execution_count": 135,
   "metadata": {},
   "outputs": [],
   "source": [
    "def M_mat_dBeta(Q):\n",
    "    \n",
    "    \"\"\"Derivative of M Matrix w.r.t Beta.\n",
    "       Q: nuclear position\"\"\"\n",
    "    \n",
    "    M_dBeta = np.zeros((num_states,num_states))\n",
    "    V = Vmat(Q)\n",
    "    M = M_mat(Q)\n",
    "    \n",
    "    M_dBeta[0,0] = -V[0,0]*M[0,0]/elec_beads\n",
    "    M_dBeta[1,1] = -V[1,1]*M[1,1]/elec_beads\n",
    "    \n",
    "    M_dBeta[0,1] = (-V[0,1]*M[0,0] - beta*V[0,1]*M_dBeta[0,0])/elec_beads\n",
    "    M_dBeta[1,0] = (-V[1,0]*M[1,1] - beta*V[1,0]*M_dBeta[1,1])/elec_beads\n",
    "    \n",
    "    return M_dBeta"
   ]
  },
  {
   "cell_type": "markdown",
   "metadata": {},
   "source": [
    "G Term"
   ]
  },
  {
   "cell_type": "code",
   "execution_count": 136,
   "metadata": {},
   "outputs": [],
   "source": [
    "def GTerm(x,p):\n",
    "    \n",
    "    \"\"\"G Term from MV-RPMD formulation.\n",
    "       x,p: mapping variables vectors of a given bead: both are length num_states\"\"\"\n",
    "    \n",
    "    x_sq = np.square(x)\n",
    "    p_sq = np.square(p)\n",
    "    \n",
    "    x_sq_sum = np.sum(x_sq)\n",
    "    p_sq_sum = np.sum(p_sq)\n",
    "\n",
    "    return (x_sq_sum + p_sq_sum)/elec_beads"
   ]
  },
  {
   "cell_type": "markdown",
   "metadata": {},
   "source": [
    "Gamma Matrix and derivatives"
   ]
  },
  {
   "cell_type": "code",
   "execution_count": 137,
   "metadata": {},
   "outputs": [],
   "source": [
    "def Gamma(Q,x,p):\n",
    "    \n",
    "    \"\"\"Gamma Matrix from MV-RPMD formulation.\n",
    "       x,p: mapping variables vectors of a given bead: both are length num_states\n",
    "       Q: nuclear position\"\"\"\n",
    "    \n",
    "    gamma = np.identity(num_states)\n",
    "    ratio = int(nuc_beads/elec_beads)\n",
    "    \n",
    "    for bead in range(elec_beads):\n",
    "        M = M_mat(Q[bead*ratio])\n",
    "        C = C_mat(x[bead,:],p[bead,:])\n",
    "        \n",
    "        gamma = np.matmul(gamma,C)\n",
    "        gamma = np.matmul(gamma,M)\n",
    "\n",
    "    return gamma"
   ]
  },
  {
   "cell_type": "code",
   "execution_count": 138,
   "metadata": {},
   "outputs": [],
   "source": [
    "def Gamma_Esplit(Q,x,p):\n",
    "    \n",
    "    \"\"\"Gamma Matrix from MV-RPMD formulation using Electronic MTS\n",
    "       x,p: mapping variables vectors of a given bead: both are length num_states\n",
    "       Q: nuclear position\"\"\"\n",
    "    \n",
    "    gamma = np.identity(num_states)\n",
    "    M = M_mat(Q[0])\n",
    "\n",
    "    \n",
    "    for bead in range(elec_beads):\n",
    "        C = C_mat(x[bead,:],p[bead,:])\n",
    "        \n",
    "        gamma = np.matmul(gamma,C)\n",
    "        gamma = np.matmul(gamma,M)\n",
    "\n",
    "    return gamma"
   ]
  },
  {
   "cell_type": "code",
   "execution_count": 139,
   "metadata": {},
   "outputs": [],
   "source": [
    "def Gamma_Esplit_dBeta(Q,x,p):\n",
    "    \n",
    "    \"\"\"Derivative of Gamma Matrix w.r.t Beta from MV-RPMD formulation using Electronic MTS\n",
    "       x,p: mapping variables vectors of a given bead: both are length num_states\n",
    "       Q: nuclear position\"\"\"\n",
    "    \n",
    "    gamma = np.identity(num_states,dtype='complex')\n",
    "    gamma_sum = np.zeros((num_states,num_states),dtype='complex')\n",
    "    M_dBeta = np.zeros((num_states,num_states))\n",
    "    M = np.zeros((num_states,num_states))\n",
    "\n",
    "    M = M_mat(Q[0])\n",
    "    M_dBeta = M_mat_dBeta(Q[0])\n",
    "\n",
    "    for wrt in range(elec_beads):\n",
    "        gamma = np.identity(num_states)\n",
    "\n",
    "        for bead in range(elec_beads):\n",
    "            \n",
    "            C = C_mat(x[bead,:],p[bead,:])\n",
    "\n",
    "            if(wrt==bead):\n",
    "                gamma = np.matmul(gamma,C)\n",
    "                gamma = np.matmul(gamma,M_dBeta)\n",
    "            else:\n",
    "                gamma = np.matmul(gamma,C)\n",
    "                gamma = np.matmul(gamma,M)\n",
    "                \n",
    "        gamma_sum += gamma\n",
    "        \n",
    "    return gamma_sum"
   ]
  },
  {
   "cell_type": "code",
   "execution_count": 140,
   "metadata": {},
   "outputs": [],
   "source": [
    "def Gamma_dQ(Q,x,p,alpha):\n",
    "    \n",
    "    \"\"\"Derivative of Gamma Matrix w.r.t Beta from MV-RPMD formulation using Electronic MTS\n",
    "       x,p: mapping variables vectors of a given bead: both are length num_states\n",
    "       Q: nuclear position\"\"\"\n",
    "    \n",
    "    ratio = int(nuc_beads/elec_beads)\n",
    "\n",
    "    W = np.zeros((elec_beads,nuc_beads))\n",
    "    gamma_dQ = np.identity(num_states)\n",
    "    \n",
    "    for i in range (elec_beads):\n",
    "        W[i,i*ratio] = 1.0\n",
    "    \n",
    "    Q_trans = np.matmul(W,Q)\n",
    "\n",
    "    for bead in range(elec_beads):\n",
    "        C = C_mat(x[bead,:],p[bead,:])\n",
    "        gamma_dQ = np.matmul(gamma_dQ,C)\n",
    "        \n",
    "        if alpha == bead:\n",
    "            M_dQ = M_mat_dQ(Q_trans[bead])\n",
    "            gamma_dQ = np.matmul(gamma_dQ,M_dQ)\n",
    "\n",
    "        else:\n",
    "            M = M_mat(Q_trans[bead])\n",
    "            gamma_dQ = np.matmul(gamma_dQ,M)\n",
    "\n",
    "    return gamma_dQ"
   ]
  },
  {
   "cell_type": "code",
   "execution_count": 141,
   "metadata": {},
   "outputs": [],
   "source": [
    "def Gamma_dx(Q,x,p,alpha,state):\n",
    "    \"\"\"Derivative wrt bead alpha and state\"\"\"\n",
    "  \n",
    "    gamma_dx = np.identity(num_states)\n",
    "    ratio = int(nuc_beads/elec_beads)\n",
    "    \n",
    "    for bead in range(elec_beads):\n",
    "   \n",
    "        if alpha == bead:\n",
    "            C_dx = C_mat_dx(x[bead,:],p[bead,:],state)\n",
    "            gamma_dx = np.matmul(gamma_dx,C_dx)\n",
    "\n",
    "        else:\n",
    "            C = C_mat(x[bead,:],p[bead,:])\n",
    "            gamma_dx = np.matmul(gamma_dx,C)\n",
    "            \n",
    "        M = M_mat(Q[ratio*bead])\n",
    "        gamma_dx = np.matmul(gamma_dx,M)\n",
    "\n",
    "    return gamma_dx\n",
    "    "
   ]
  },
  {
   "cell_type": "code",
   "execution_count": 142,
   "metadata": {},
   "outputs": [],
   "source": [
    "def Gamma_dp(Q,x,p,alpha,state):\n",
    "    \"\"\"Derivative wrt bead alpha and state\"\"\"\n",
    "  \n",
    "    gamma_dp = np.identity(num_states)\n",
    "    ratio = int(nuc_beads/elec_beads)\n",
    "    \n",
    "    for bead in range(elec_beads):\n",
    "   \n",
    "        if alpha == bead:\n",
    "            C_dp = C_mat_dp(x[bead,:],p[bead,:],state)\n",
    "            gamma_dp = np.matmul(gamma_dp,C_dp)\n",
    "\n",
    "        else:\n",
    "            C = C_mat(x[bead,:],p[bead,:])\n",
    "            gamma_dp = np.matmul(gamma_dp,C)\n",
    "            \n",
    "        M = M_mat(Q[ratio*bead])\n",
    "        gamma_dp = np.matmul(gamma_dp,M)\n",
    "\n",
    "    return gamma_dp"
   ]
  },
  {
   "cell_type": "code",
   "execution_count": 143,
   "metadata": {},
   "outputs": [],
   "source": [
    "def Gamma_Esplit_dQ(Q,x,p):\n",
    "    \n",
    "    dMdQ = M_mat_dQ(Q)\n",
    "    M = M_mat(Q)\n",
    "    gamma_sum = np.zeros((num_states,num_states),dtype=complex)\n",
    "\n",
    "    for i in range(elec_beads):\n",
    "        gamma_dQ = np.identity(num_states)\n",
    "\n",
    "        for j in range(elec_beads):\n",
    "            C = C_mat(x[j,:],p[j,:])\n",
    "            gamma_dQ = np.matmul(gamma_dQ,C)\n",
    "\n",
    "            if i==j:    \n",
    "                gamma_dQ = np.matmul(gamma_dQ,dMdQ)\n",
    "            else:\n",
    "                gamma_dQ = np.matmul(gamma_dQ,M)\n",
    "           \n",
    "        gamma_sum += gamma_dQ\n",
    "\n",
    "    return gamma_sum"
   ]
  },
  {
   "cell_type": "code",
   "execution_count": 144,
   "metadata": {},
   "outputs": [],
   "source": [
    "def Gamma_Esplit_dx(Q,x,p,alpha,state):\n",
    "    \n",
    "    M = M_mat(Q)\n",
    "    gamma_dx = np.identity(num_states)\n",
    "\n",
    "    for i in range(elec_beads):\n",
    "        C = C_mat(x[i,:],p[i,:])\n",
    "        \n",
    "        if alpha == i:\n",
    "            dCdx = C_mat_dx(x[alpha,:],p[alpha,:],state)\n",
    "            gamma_dx = np.matmul(gamma_dx,dCdx)\n",
    "            \n",
    "        else:\n",
    "            gamma_dx = np.matmul(gamma_dx,C)\n",
    "        \n",
    "        gamma_dx = np.matmul(gamma_dx,M)\n",
    "\n",
    "    return gamma_dx"
   ]
  },
  {
   "cell_type": "code",
   "execution_count": 145,
   "metadata": {},
   "outputs": [],
   "source": [
    "def Gamma_Esplit_dp(Q,x,p,alpha,state):\n",
    "    \n",
    "    M = M_mat(Q)\n",
    "    gamma_dp = np.identity(num_states)\n",
    "\n",
    "    for i in range(elec_beads):\n",
    "        C = C_mat(x[i,:],p[i,:])\n",
    "        \n",
    "        if alpha == i:\n",
    "            dCdp = C_mat_dp(x[alpha,:],p[alpha,:],state)\n",
    "            gamma_dp = np.matmul(gamma_dp,dCdp)\n",
    "            \n",
    "        else:\n",
    "            gamma_dp = np.matmul(gamma_dp,C)\n",
    "        \n",
    "        gamma_dp = np.matmul(gamma_dp,M)\n",
    "\n",
    "    return gamma_dp"
   ]
  },
  {
   "cell_type": "markdown",
   "metadata": {},
   "source": [
    "Theta and derivatives"
   ]
  },
  {
   "cell_type": "code",
   "execution_count": 146,
   "metadata": {},
   "outputs": [],
   "source": [
    "def Theta(Q,x,p):\n",
    "    \n",
    "    gamma = Gamma(Q,x,p)\n",
    "    theta = np.trace(gamma)\n",
    "    \n",
    "    return np.real(theta)"
   ]
  },
  {
   "cell_type": "code",
   "execution_count": 147,
   "metadata": {},
   "outputs": [],
   "source": [
    "def Theta_Esplit(Q,x,p):\n",
    "\n",
    "    gamma = Gamma_Esplit(Q,x,p)\n",
    "    theta = np.trace(gamma)\n",
    "    \n",
    "    return np.real(theta)"
   ]
  },
  {
   "cell_type": "code",
   "execution_count": 148,
   "metadata": {},
   "outputs": [],
   "source": [
    "def Theta_Esplit_dBeta(Q,x,p):\n",
    "    \n",
    "    gamma_dBeta = Gamma_Esplit_dBeta(Q,x,p)\n",
    "    theta_dBeta = np.trace(gamma_dBeta)\n",
    "    \n",
    "    return np.real(theta_dBeta)"
   ]
  },
  {
   "cell_type": "code",
   "execution_count": 149,
   "metadata": {},
   "outputs": [],
   "source": [
    "def grad_theta_dQ(Q,x,p):\n",
    "    \n",
    "    ratio = int(nuc_beads/elec_beads)\n",
    "    V = np.zeros((nuc_beads,elec_beads))\n",
    "    grad = np.zeros(elec_beads)\n",
    "    \n",
    "    for i in range (elec_beads):\n",
    "        V[i*ratio,i] = 1.0\n",
    "    \n",
    "    for bead in range(elec_beads):\n",
    "        grad[bead] = np.real(np.trace(Gamma_dQ(Q,x,p,bead)))\n",
    "        \n",
    "    return np.matmul(V,grad)"
   ]
  },
  {
   "cell_type": "code",
   "execution_count": 150,
   "metadata": {},
   "outputs": [],
   "source": [
    "def grad_theta_dx(Q,x,p):\n",
    "    \n",
    "    grad = np.zeros((elec_beads,num_states))\n",
    "    \n",
    "    for bead in range(elec_beads):\n",
    "        for state in range (num_states):\n",
    "            grad[bead,state] = np.real(np.trace(Gamma_dx(Q,x,p,bead,state)))\n",
    "    return grad"
   ]
  },
  {
   "cell_type": "code",
   "execution_count": 151,
   "metadata": {},
   "outputs": [],
   "source": [
    "def grad_theta_dp(Q,x,p):\n",
    "    \n",
    "    grad = np.zeros((elec_beads,num_states))\n",
    "    \n",
    "    for bead in range(elec_beads):\n",
    "        for state in range (num_states):\n",
    "            grad[bead,state] = np.real(np.trace(Gamma_dp(Q,x,p,bead,state)))\n",
    "    return grad"
   ]
  },
  {
   "cell_type": "code",
   "execution_count": 152,
   "metadata": {},
   "outputs": [],
   "source": [
    "def grad_theta_Esplit_dQ(Q,x,p):\n",
    "    \n",
    "    gamma = Gamma_Esplit_dQ(Q,x,p)\n",
    "    \n",
    "    return np.real(np.trace(gamma))"
   ]
  },
  {
   "cell_type": "code",
   "execution_count": 153,
   "metadata": {},
   "outputs": [],
   "source": [
    "def grad_theta_Esplit_dx(Q,x,p):\n",
    "\n",
    "    grad = np.zeros((elec_beads,num_states))\n",
    "    \n",
    "    for bead in range(elec_beads):\n",
    "        for state in range (num_states):\n",
    "            grad[bead,state] = np.real(np.trace(Gamma_Esplit_dx(Q,x,p,bead,state)))\n",
    "    return grad"
   ]
  },
  {
   "cell_type": "code",
   "execution_count": 154,
   "metadata": {},
   "outputs": [],
   "source": [
    "def grad_theta_Esplit_dp(Q,x,p):\n",
    "\n",
    "    grad = np.zeros((elec_beads,num_states))\n",
    "    \n",
    "    for bead in range(elec_beads):\n",
    "        for state in range (num_states):\n",
    "            grad[bead,state] = np.real(np.trace(Gamma_Esplit_dp(Q,x,p,bead,state)))\n",
    "    return grad"
   ]
  },
  {
   "cell_type": "markdown",
   "metadata": {},
   "source": [
    "Hamiltons EOM"
   ]
  },
  {
   "cell_type": "code",
   "execution_count": 155,
   "metadata": {},
   "outputs": [],
   "source": [
    "def dHdP(Q,P,x,p):\n",
    "    \n",
    "    return P/mass"
   ]
  },
  {
   "cell_type": "code",
   "execution_count": 156,
   "metadata": {},
   "outputs": [],
   "source": [
    "def dHdQ(Q,P,x,p):\n",
    "    \n",
    "    v_force = dV0_dQ(Q)\n",
    "    theta = Theta_Esplit(Q,x,p)\n",
    "    theta_force = grad_theta_Esplit_dQ(Q,x,p)\n",
    "    \n",
    "    print(\"v_force:\",v_force)\n",
    "    print(\"theta:\",theta)\n",
    "    print(\"dTheta_dQ:\",theta_force)\n",
    "    \n",
    "    return v_force - theta_force/(beta*theta)"
   ]
  },
  {
   "cell_type": "code",
   "execution_count": 164,
   "metadata": {},
   "outputs": [],
   "source": [
    "def dHdx(Q,P,x,p):\n",
    "    \n",
    "    theta = Theta_Esplit(Q,x,p)\n",
    "    theta_force = grad_theta_Esplit_dx(Q,x,p)\n",
    "    \n",
    "    print(\"theta:\",theta)\n",
    "    print(\"dTheta_dx:\",theta_force)\n",
    "    \n",
    "    return 2.0*x/beta - theta_force/(beta*theta)"
   ]
  },
  {
   "cell_type": "code",
   "execution_count": 165,
   "metadata": {},
   "outputs": [],
   "source": [
    "def dHdp(Q,P,x,p):\n",
    "    \n",
    "    theta = Theta_Esplit(Q,x,p)\n",
    "    theta_force = grad_theta_Esplit_dp(Q,x,p)\n",
    "    \n",
    "    print(\"theta:\",theta)\n",
    "    print(\"dTheta_dp:\",theta_force)\n",
    "    \n",
    "    return 2.0*p/beta - theta_force/(beta*theta)"
   ]
  },
  {
   "cell_type": "markdown",
   "metadata": {},
   "source": [
    "Hamiltonians and Energy Estimators"
   ]
  },
  {
   "cell_type": "code",
   "execution_count": 166,
   "metadata": {},
   "outputs": [],
   "source": [
    "def H_Esplit(Q,x,p):\n",
    "    \n",
    "    theta = Theta_Esplit(Q,x,p)\n",
    "    v = V0(Q)\n",
    "    G = GTerm(x,p)\n",
    "    energy = v + (G - np.log(np.abs(theta)))/beta\n",
    "    \n",
    "    print(\"V:\",v)\n",
    "    print(\"G:\", G)\n",
    "    print(\"theta:\", theta)\n",
    "    \n",
    "    return energy"
   ]
  },
  {
   "cell_type": "code",
   "execution_count": 167,
   "metadata": {},
   "outputs": [],
   "source": [
    "def Esti_Esplit(Q,x,p):\n",
    "\n",
    "    theta = Theta_Esplit(Q,x,p)\n",
    "    theta_dBeta = Theta_Esplit_dBeta(Q,x,p)\n",
    "    v = V0(Q)\n",
    "    \n",
    "    print(\"V:\", v)\n",
    "    print(\"Theta:\", theta)\n",
    "    print(\"theta_dBeta:\", theta_dBeta)\n",
    "    \n",
    "    return (1.0/(2.0*beta) + v - (theta_dBeta/theta))*np.sign(theta)"
   ]
  }
 ],
 "metadata": {
  "kernelspec": {
   "display_name": "Python 3",
   "language": "python",
   "name": "python3"
  },
  "language_info": {
   "codemirror_mode": {
    "name": "ipython",
    "version": 3
   },
   "file_extension": ".py",
   "mimetype": "text/x-python",
   "name": "python",
   "nbconvert_exporter": "python",
   "pygments_lexer": "ipython3",
   "version": "3.7.0"
  }
 },
 "nbformat": 4,
 "nbformat_minor": 2
}
